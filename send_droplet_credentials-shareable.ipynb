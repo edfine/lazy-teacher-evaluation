{
 "cells": [
  {
   "cell_type": "code",
   "execution_count": 1,
   "metadata": {},
   "outputs": [],
   "source": [
    "# !pip install pygithub\n",
    "from github import Github\n",
    "import getpass\n",
    "import json"
   ]
  },
  {
   "cell_type": "code",
   "execution_count": 2,
   "metadata": {},
   "outputs": [],
   "source": [
    "# This part is manually cut and pasting data in.  We can automate it, but let's get it done for now.  \n",
    "\n",
    "w205s2_ipv4_address_list = [\n",
    "    '138.197.202.121',\n",
    "    '138.197.193.252',\n",
    "    '138.197.201.82',\n",
    "    '138.197.200.106',\n",
    "    '138.197.202.149',\n",
    "    '138.68.50.68',\n",
    "    '138.197.194.190',\n",
    "    '138.197.194.194',\n",
    "    '138.197.193.160',\n",
    "    '138.197.202.238',\n",
    "    '138.197.202.174',\n",
    "    '138.197.202.151',\n",
    "    '138.197.198.16',\n",
    "    '138.197.202.15',\n",
    "    '138.197.197.6'\n",
    "]\n",
    "\n",
    "#add your passwords here too\n",
    "w205s2_science_user_pws = [\n",
    "    'aaa','bbb'\n",
    "]\n",
    "w205s3_ipv4_address_list = [\n",
    "    '138.197.222.252',\n",
    "    '138.197.197.7',\n",
    "    '138.197.202.237',\n",
    "    '138.197.209.253',\n",
    "    '138.68.5.137',\n",
    "    '138.197.195.58',\n",
    "    '138.197.213.24',\n",
    "    '138.197.214.218',\n",
    "    '138.68.62.191',\n",
    "    '138.68.31.4',\n",
    "    '138.197.214.230',\n",
    "    '138.197.209.218',\n",
    "    '138.197.222.39',\n",
    "    '138.197.195.172',\n",
    "    '138.197.217.127'\n",
    "]\n",
    "\n",
    "#add your passwords here too\n",
    "w205s3_science_user_pws = [\n",
    "    'ccc','ddd'\n",
    "]\n",
    "\n",
    "# Make the handles a set as a quick way to dedupe.\n",
    "github_handles = set(['alexandraiov', 'jakemiller649', 'saurav-datta', 'MihirSathe1', 'allahale', 'danielleoneil', \\\n",
    "                  'esko22', 'rolandlim', 'sophiahuangMIDS', 'kchuangk', 'CraigFujii-ischool', 'kashibr', \\\n",
    "                  'YankInSchweiz', 'ShirazChakraverty', 'iniu1', 'mstackhouse', 'stanwixxy', 'zachday1', \\\n",
    "                  'ctpham1', 'danonprice', 'mstackhouse', 'stanwixxy', 'zachday1', 'ctpham1', 'danonprice', \\\n",
    "                  'krystent2'])\n",
    "ips = w205s2_ipv4_address_list + w205s3_ipv4_address_list\n",
    "pwds = w205s2_science_user_pws + w205s3_science_user_pws"
   ]
  },
  {
   "cell_type": "code",
   "execution_count": 3,
   "metadata": {},
   "outputs": [
    {
     "data": {
      "text/plain": [
       "{'CraigFujii-ischool',\n",
       " 'MihirSathe1',\n",
       " 'ShirazChakraverty',\n",
       " 'YankInSchweiz',\n",
       " 'alexandraiov',\n",
       " 'allahale',\n",
       " 'ctpham1',\n",
       " 'danielleoneil',\n",
       " 'danonprice',\n",
       " 'esko22',\n",
       " 'iniu1',\n",
       " 'jakemiller649',\n",
       " 'kashibr',\n",
       " 'kchuangk',\n",
       " 'krystent2',\n",
       " 'mstackhouse',\n",
       " 'rolandlim',\n",
       " 'saurav-datta',\n",
       " 'sophiahuangMIDS',\n",
       " 'stanwixxy',\n",
       " 'zachday1'}"
      ]
     },
     "execution_count": 3,
     "metadata": {},
     "output_type": "execute_result"
    }
   ],
   "source": [
    "github_handles"
   ]
  },
  {
   "cell_type": "code",
   "execution_count": 4,
   "metadata": {},
   "outputs": [],
   "source": [
    "# !pip install pygithub"
   ]
  },
  {
   "cell_type": "code",
   "execution_count": 5,
   "metadata": {},
   "outputs": [
    {
     "name": "stdout",
     "output_type": "stream",
     "text": [
      "Github Handle········\n",
      "Github Password········\n"
     ]
    }
   ],
   "source": [
    "instructor_user = getpass.getpass(\"Github Handle\")\n",
    "instructor_pw = getpass.getpass(\"Github Password\")"
   ]
  },
  {
   "cell_type": "code",
   "execution_count": 6,
   "metadata": {},
   "outputs": [],
   "source": [
    "## First create a Github instance: First create it\n",
    "\n",
    "# using username and password\n",
    "g = Github(instructor_user, instructor_pw)\n",
    "\n",
    "# Get my signup repos \n",
    "repo_list = [repo for repo in g.get_user().get_repos() if (\"signup\" in repo.name and \"template\" not in repo.name)]\n",
    "# Filter on students from this term's list\n",
    "repos_this_term = [repo for repo in repo_list for handle in github_handles if handle in repo.name]"
   ]
  },
  {
   "cell_type": "code",
   "execution_count": 7,
   "metadata": {},
   "outputs": [
    {
     "name": "stdout",
     "output_type": "stream",
     "text": [
      "[Repository(full_name=\"mids-w205-fine/signup-alexandraiov\"), Repository(full_name=\"mids-w205-fine/signup-allahale\"), Repository(full_name=\"mids-w205-fine/signup-CraigFujii-ischool\"), Repository(full_name=\"mids-w205-fine/signup-ctpham1\"), Repository(full_name=\"mids-w205-fine/signup-danielleoneil\"), Repository(full_name=\"mids-w205-fine/signup-danonprice\"), Repository(full_name=\"mids-w205-fine/signup-edfine\"), Repository(full_name=\"mids-w205-fine/signup-esko22\"), Repository(full_name=\"mids-w205-fine/signup-iniu1\"), Repository(full_name=\"mids-w205-fine/signup-jakemiller649\"), Repository(full_name=\"mids-w205-fine/signup-kashibr\"), Repository(full_name=\"mids-w205-fine/signup-kchuangk\"), Repository(full_name=\"mids-w205-fine/signup-krystent2\"), Repository(full_name=\"mids-w205-fine/signup-MihirSathe1\"), Repository(full_name=\"mids-w205-fine/signup-mstackhouse\"), Repository(full_name=\"mids-w205-fine/signup-rolandlim\"), Repository(full_name=\"mids-w205-fine/signup-saurav-datta\"), Repository(full_name=\"mids-w205-fine/signup-ShirazChakraverty\"), Repository(full_name=\"mids-w205-fine/signup-sophiahuangMIDS\"), Repository(full_name=\"mids-w205-fine/signup-YankInSchweiz\")]\n",
      "[Repository(full_name=\"mids-w205-fine/signup-alexandraiov\"), Repository(full_name=\"mids-w205-fine/signup-allahale\"), Repository(full_name=\"mids-w205-fine/signup-CraigFujii-ischool\"), Repository(full_name=\"mids-w205-fine/signup-ctpham1\"), Repository(full_name=\"mids-w205-fine/signup-danielleoneil\"), Repository(full_name=\"mids-w205-fine/signup-danonprice\"), Repository(full_name=\"mids-w205-fine/signup-esko22\"), Repository(full_name=\"mids-w205-fine/signup-iniu1\"), Repository(full_name=\"mids-w205-fine/signup-jakemiller649\"), Repository(full_name=\"mids-w205-fine/signup-kashibr\"), Repository(full_name=\"mids-w205-fine/signup-kchuangk\"), Repository(full_name=\"mids-w205-fine/signup-krystent2\"), Repository(full_name=\"mids-w205-fine/signup-MihirSathe1\"), Repository(full_name=\"mids-w205-fine/signup-mstackhouse\"), Repository(full_name=\"mids-w205-fine/signup-rolandlim\"), Repository(full_name=\"mids-w205-fine/signup-saurav-datta\"), Repository(full_name=\"mids-w205-fine/signup-ShirazChakraverty\"), Repository(full_name=\"mids-w205-fine/signup-sophiahuangMIDS\"), Repository(full_name=\"mids-w205-fine/signup-YankInSchweiz\")]\n"
     ]
    }
   ],
   "source": [
    "# Did you remember to clear out last terms students?\n",
    "print(repo_list)\n",
    "print(repos_this_term)"
   ]
  },
  {
   "cell_type": "code",
   "execution_count": 8,
   "metadata": {},
   "outputs": [],
   "source": [
    "def create_droplet_str(ipv4, passwd):\n",
    "    '''This creates a json formatted string\n",
    "    :param ipv4: string\n",
    "    :param passwd: string\n",
    "    :rtype: :string\n",
    "    \n",
    "    >>>create_droplet_str(\"138.197.198.16\", \"zgrCslHO\")\n",
    "    {\"ipv4_address\": \"138.197.198.16\", \"science_user_passwd\": \"zgrCslHO\"}'\n",
    "    '''\n",
    "    from json import dumps\n",
    "    return json.dumps({\"ipv4_address\":ipv4, \"science_user_passwd\":passwd})\n"
   ]
  },
  {
   "cell_type": "code",
   "execution_count": 9,
   "metadata": {},
   "outputs": [
    {
     "name": "stdout",
     "output_type": "stream",
     "text": [
      "Not all students have completed signup. You will have to run this again later or remove dropped students from your roster.\n",
      "signup-sophiahuangMIDS\n",
      "https://github.com/mids-w205-fine/signup-sophiahuangMIDS/blob/master/droplet-info.json\n",
      "sophiahuangMIDS already has a droplet assigned\n",
      "signup-mstackhouse\n",
      "https://github.com/mids-w205-fine/signup-mstackhouse/blob/master/droplet-info.json\n",
      "mstackhouse already has a droplet assigned\n",
      "signup-MihirSathe1\n",
      "https://github.com/mids-w205-fine/signup-MihirSathe1/blob/master/droplet-info.json\n",
      "MihirSathe1 already has a droplet assigned\n",
      "signup-kchuangk\n",
      "https://github.com/mids-w205-fine/signup-kchuangk/blob/master/droplet-info.json\n",
      "kchuangk already has a droplet assigned\n",
      "signup-krystent2\n",
      "https://github.com/mids-w205-fine/signup-krystent2/blob/master/droplet-info.json\n",
      "krystent2 already has a droplet assigned\n",
      "signup-saurav-datta\n",
      "https://github.com/mids-w205-fine/signup-saurav-datta/blob/master/droplet-info.json\n",
      "saurav-datta already has a droplet assigned\n",
      "signup-ctpham1\n",
      "https://github.com/mids-w205-fine/signup-ctpham1/blob/master/droplet-info.json\n",
      "ctpham1 already has a droplet assigned\n",
      "signup-jakemiller649\n",
      "https://github.com/mids-w205-fine/signup-jakemiller649/blob/master/droplet-info.json\n",
      "jakemiller649 already has a droplet assigned\n",
      "signup-danielleoneil\n",
      "https://github.com/mids-w205-fine/signup-danielleoneil/blob/master/droplet-info.json\n",
      "danielleoneil already has a droplet assigned\n",
      "signup-alexandraiov\n",
      "https://github.com/mids-w205-fine/signup-alexandraiov/blob/master/droplet-info.json\n",
      "alexandraiov already has a droplet assigned\n",
      "signup-esko22\n",
      "https://github.com/mids-w205-fine/signup-esko22/blob/master/droplet-info.json\n",
      "esko22 already has a droplet assigned\n",
      "signup-CraigFujii-ischool\n",
      "https://github.com/mids-w205-fine/signup-CraigFujii-ischool/blob/master/droplet-info.json\n",
      "CraigFujii-ischool already has a droplet assigned\n",
      "signup-kashibr\n",
      "https://github.com/mids-w205-fine/signup-kashibr/blob/master/droplet-info.json\n",
      "kashibr already has a droplet assigned\n",
      "signup-rolandlim\n",
      "https://github.com/mids-w205-fine/signup-rolandlim/blob/master/droplet-info.json\n",
      "rolandlim already has a droplet assigned\n",
      "signup-YankInSchweiz\n",
      "https://github.com/mids-w205-fine/signup-YankInSchweiz/blob/master/droplet-info.json\n",
      "YankInSchweiz already has a droplet assigned\n",
      "signup-ShirazChakraverty\n",
      "https://github.com/mids-w205-fine/signup-ShirazChakraverty/blob/master/droplet-info.json\n",
      "ShirazChakraverty already has a droplet assigned\n",
      "signup-allahale\n",
      "https://github.com/mids-w205-fine/signup-allahale/blob/master/droplet-info.json\n",
      "allahale already has a droplet assigned\n",
      "signup-danonprice\n",
      "https://github.com/mids-w205-fine/signup-danonprice/blob/master/droplet-info.json\n",
      "danonprice already has a droplet assigned\n",
      "signup-iniu1\n",
      "https://github.com/mids-w205-fine/signup-iniu1/blob/master/droplet-info.json\n",
      "iniu1 already has a droplet assigned\n"
     ]
    }
   ],
   "source": [
    "if len(github_handles) > len(repos_this_term):\n",
    "    print(\"Not all students have completed signup. You will have to run this again later or remove dropped students from your roster.\")\n",
    "elif len(github_handles) > len(repos_this_term):\n",
    "    print(\"Something weird is happening with the repo names\")\n",
    "else:\n",
    "    print(\"Baby bear case: this one is just right.\")\n",
    "    \n",
    "#Make iterators out of our lists\n",
    "ips_iter = iter(ips)\n",
    "pwds_iter = iter(pwds)\n",
    "for handle in github_handles:\n",
    "    for repo in repos_this_term:\n",
    "        if handle in repo.name:\n",
    "            print(repo.name)\n",
    "            try:\n",
    "                # Test to make sure we don't double assign.  So we can re-run if students sign up late\n",
    "                contents = repo.get_contents('/droplet-info.json')\n",
    "                print(contents.html_url)\n",
    "                print('{} already has a droplet assigned'.format(handle))\n",
    "            except:\n",
    "                # We have found a student who has done the signup, but not yet received a droplet\n",
    "                json_data = create_droplet_str(next(ips_iter),next(pwds_iter))\n",
    "                repo.create_file(path='/droplet-info.json', message='Adding droplet IP and Passwd', content=json_data)\n",
    "                print('Assigned {} the droplet {}'.format(handle, json_data))\n",
    "\n"
   ]
  },
  {
   "cell_type": "markdown",
   "metadata": {},
   "source": [
    "Below is a stub for the Slack bot version.  I was hoping to make a nifty bot for this.  "
   ]
  },
  {
   "cell_type": "code",
   "execution_count": 10,
   "metadata": {},
   "outputs": [],
   "source": [
    "# This is a stub for pushing messages via slack.  Unfortunately I am waiting on permissions from the MIDS IT \n",
    "# to authorize my app. I am leaving this for a future term.  \n",
    "# def spamClass(ids, ips, pwds):\n",
    "#     from slackclient import SlackClient\n",
    "\n",
    "#     SLACK_TOKEN = \"7Klx6TQvGMBAyM12bVuwh3Yb\" # or a TEST token. Get one from https://api.slack.com/docs/oauth-test-tokens\n",
    "\n",
    "#     slack_client = SlackClient(SLACK_TOKEN)\n",
    "#     api_call = slack_client.api_call(\"im.list\")\n",
    "\n",
    "#     # You should either know the user_slack_id to send a direct msg to the user\n",
    "#     user_slack_id = \"efine\"\n",
    "\n",
    "#     if api_call.get('ok'):\n",
    "#         for im in api_call.get(\"ims\"):\n",
    "#             if im.get(\"user\") == user_slack_id:\n",
    "#                 im_channel = im.get(\"id\")\n",
    "#                 slack_client.api_call(\"chat.postMessage\", channel=im_channel,\n",
    "#                                            text=\"Hi Buddy\", as_user=True)"
   ]
  }
 ],
 "metadata": {
  "kernelspec": {
   "display_name": "Python 3",
   "language": "python",
   "name": "python3"
  },
  "language_info": {
   "codemirror_mode": {
    "name": "ipython",
    "version": 3
   },
   "file_extension": ".py",
   "mimetype": "text/x-python",
   "name": "python",
   "nbconvert_exporter": "python",
   "pygments_lexer": "ipython3",
   "version": "3.5.5"
  }
 },
 "nbformat": 4,
 "nbformat_minor": 2
}
